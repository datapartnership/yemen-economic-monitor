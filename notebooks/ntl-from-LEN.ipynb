{
 "cells": [
  {
   "cell_type": "code",
   "execution_count": null,
   "metadata": {},
   "outputs": [],
   "source": [
    "import rasterio as rio\n",
    "import boto3\n",
    "from botocore.config import Config\n",
    "from botocore import UNSIGNED"
   ]
  },
  {
   "cell_type": "code",
   "execution_count": null,
   "metadata": {},
   "outputs": [],
   "source": [
    "# client = boto3.client('s3')\n",
    "client = boto3.client('s3', config=Config(signature_version=UNSIGNED))\n",
    "paginator = client.get_paginator('list_objects')"
   ]
  },
  {
   "cell_type": "code",
   "execution_count": null,
   "metadata": {},
   "outputs": [],
   "source": [
    "result = paginator.paginate(Bucket='globalnightlight', Prefix='composites/', Delimiter='/')\n",
    "for prefix in result.search('CommonPrefixes'):\n",
    "    print(prefix.get('Prefix'))"
   ]
  },
  {
   "cell_type": "code",
   "execution_count": null,
   "metadata": {},
   "outputs": [],
   "source": [
    "result = paginator.paginate(Bucket='globalnightlight', Prefix='composites/npp_202304_ops/', Delimiter='/')"
   ]
  },
  {
   "cell_type": "code",
   "execution_count": null,
   "metadata": {},
   "outputs": [],
   "source": [
    "for page in result:\n",
    "    for item in page['Contents']:\n",
    "        fname = item['Key']\n",
    "        if fname.endswith('.tif'):\n",
    "            url = 'https://globalnightlight.s3.amazonaws.com/' + fname\n",
    "            print(url)\n",
    "            # date = fname[fname.find('.tif')-8:fname.find('.tif')]\n",
    "            # n+=1"
   ]
  },
  {
   "cell_type": "code",
   "execution_count": null,
   "metadata": {},
   "outputs": [],
   "source": [
    "src = rio.open('https://globalnightlight.s3.amazonaws.com/npp_202201/SVDNB_npp_d20220131_t2143433_e2149237_b53182_c20220131230658345045_oecc_ops.rade9.co.tif')"
   ]
  }
 ],
 "metadata": {
  "kernelspec": {
   "display_name": "Python 3 (ipykernel)",
   "language": "python",
   "name": "python3"
  },
  "orig_nbformat": 4
 },
 "nbformat": 4,
 "nbformat_minor": 2
}
